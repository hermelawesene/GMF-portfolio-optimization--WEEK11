{
 "cells": [
  {
   "cell_type": "code",
   "execution_count": null,
   "metadata": {},
   "outputs": [],
   "source": [
    "import numpy as np\n",
    "import pandas as pd\n",
    "import matplotlib.pyplot as plt\n",
    "import seaborn as sns\n",
    "import logging\n",
    "import warnings\n",
    "from src.trend_forecaster import ForecastFutureMarketTrends"
   ]
  },
  {
   "cell_type": "code",
   "execution_count": null,
   "metadata": {},
   "outputs": [],
   "source": [
    "# Load historical data\n",
    "historical_data_path = '../data/cleaned/cleaned_TSLA.csv'\n",
    "historical_data = pd.read_csv(historical_data_path, parse_dates=['Date'], index_col='Date')\n",
    "\n",
    "historical_data.index = historical_data.index.tz_localize(None)\n",
    "\n",
    "# Ensure 'Adj Close' is present in historical data\n",
    "if 'Adj Close' not in historical_data.columns:\n",
    "    raise ValueError(\"Historical data must contain 'Adj Close' column.\")\n",
    "\n",
    "# Load forecasted data\n",
    "forecasted_data_path = '../models/best_models/forecasts_TSLA.csv'\n",
    "forecasted_data = pd.read_csv(forecasted_data_path, parse_dates=['Date'], index_col='Date')\n",
    "\n",
    "# Check if 'Forecast' column is present\n",
    "if 'Forecast' not in forecasted_data.columns:\n",
    "    raise ValueError(\"Forecast data must contain 'Forecast' column.\")"
   ]
  },
  {
   "cell_type": "code",
   "execution_count": null,
   "metadata": {},
   "outputs": [],
   "source": [
    "# Initialize the class\n",
    "forecast_analyzer = ForecastFutureMarketTrends(historical_data[['Adj Close']], forecasted_data)"
   ]
  },
  {
   "cell_type": "code",
   "execution_count": null,
   "metadata": {},
   "outputs": [],
   "source": [
    "# Load data (this step is usually done in the constructor, but you can call it explicitly if needed)\n",
    "forecast_analyzer.load_data()\n",
    "\n",
    "# Plot the forecast\n",
    "forecast_analyzer.plot_forecast()\n",
    "\n",
    "# Analyze the forecast\n",
    "analysis_results = forecast_analyzer.analyze_forecast()"
   ]
  }
 ],
 "metadata": {
  "kernelspec": {
   "display_name": ".venv",
   "language": "python",
   "name": "python3"
  },
  "language_info": {
   "name": "python",
   "version": "3.11.7"
  }
 },
 "nbformat": 4,
 "nbformat_minor": 2
}
