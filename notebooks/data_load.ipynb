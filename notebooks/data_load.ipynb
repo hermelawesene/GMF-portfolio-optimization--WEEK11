{
 "cells": [
  {
   "cell_type": "code",
   "execution_count": null,
   "metadata": {},
   "outputs": [
    {
     "name": "stderr",
     "output_type": "stream",
     "text": [
      "[*********************100%***********************]  1 of 1 completed\n",
      "[*********************100%***********************]  1 of 1 completed\n",
      "[*********************100%***********************]  1 of 1 completed"
     ]
    },
    {
     "name": "stdout",
     "output_type": "stream",
     "text": [
      "Tesla (TSLA) Data Sample:\n",
      "                                 Open       High        Low      Close  \\\n",
      "Date                                                                    \n",
      "2015-01-02 00:00:00+00:00  14.620667  14.620667  14.883333  14.217333   \n",
      "2015-01-05 00:00:00+00:00  14.006000  14.006000  14.433333  13.810667   \n",
      "2015-01-06 00:00:00+00:00  14.085333  14.085333  14.280000  13.614000   \n",
      "2015-01-07 00:00:00+00:00  14.063333  14.063333  14.318667  13.985333   \n",
      "2015-01-08 00:00:00+00:00  14.041333  14.041333  14.253333  14.000667   \n",
      "\n",
      "                           Adj Close    Volume  \n",
      "Date                                            \n",
      "2015-01-02 00:00:00+00:00  14.858000  71466000  \n",
      "2015-01-05 00:00:00+00:00  14.303333  80527500  \n",
      "2015-01-06 00:00:00+00:00  14.004000  93928500  \n",
      "2015-01-07 00:00:00+00:00  14.223333  44526000  \n",
      "2015-01-08 00:00:00+00:00  14.187333  51637500  \n",
      "\n",
      "Vanguard Total Bond Market ETF (BND) Data Sample:\n",
      "                                 Open       High        Low      Close  \\\n",
      "Date                                                                    \n",
      "2015-01-02 00:00:00+00:00  63.172348  82.650002  82.690002  82.419998   \n",
      "2015-01-05 00:00:00+00:00  63.355762  82.889999  82.919998  82.699997   \n",
      "2015-01-06 00:00:00+00:00  63.539192  83.129997  83.379997  83.029999   \n",
      "2015-01-07 00:00:00+00:00  63.577435  83.180000  83.279999  83.050003   \n",
      "2015-01-08 00:00:00+00:00  63.478092  83.050003  83.110001  82.970001   \n",
      "\n",
      "                           Adj Close   Volume  \n",
      "Date                                           \n",
      "2015-01-02 00:00:00+00:00  82.430000  2218800  \n",
      "2015-01-05 00:00:00+00:00  82.739998  5820100  \n",
      "2015-01-06 00:00:00+00:00  83.029999  3887600  \n",
      "2015-01-07 00:00:00+00:00  83.139999  2433400  \n",
      "2015-01-08 00:00:00+00:00  83.110001  1873400  \n",
      "\n",
      "S&P 500 ETF (SPY) Data Sample:\n",
      "                                  Open        High         Low       Close  \\\n",
      "Date                                                                        \n",
      "2015-01-02 00:00:00+00:00  173.173721  205.429993  206.880005  204.179993   \n",
      "2015-01-05 00:00:00+00:00  170.046310  201.720001  204.369995  201.350006   \n",
      "2015-01-06 00:00:00+00:00  168.444611  199.820007  202.720001  198.860001   \n",
      "2015-01-07 00:00:00+00:00  170.543686  202.309998  202.720001  200.880005   \n",
      "2015-01-08 00:00:00+00:00  173.569962  205.899994  206.160004  203.990005   \n",
      "\n",
      "                            Adj Close     Volume  \n",
      "Date                                              \n",
      "2015-01-02 00:00:00+00:00  206.380005  121465900  \n",
      "2015-01-05 00:00:00+00:00  204.169998  169632600  \n",
      "2015-01-06 00:00:00+00:00  202.089996  209151400  \n",
      "2015-01-07 00:00:00+00:00  201.419998  125346700  \n",
      "2015-01-08 00:00:00+00:00  204.009995  147217800  \n"
     ]
    },
    {
     "name": "stderr",
     "output_type": "stream",
     "text": [
      "\n"
     ]
    },
    {
     "ename": "",
     "evalue": "",
     "output_type": "error",
     "traceback": [
      "\u001b[1;31mThe Kernel crashed while executing code in the current cell or a previous cell. \n",
      "\u001b[1;31mPlease review the code in the cell(s) to identify a possible cause of the failure. \n",
      "\u001b[1;31mClick <a href='https://aka.ms/vscodeJupyterKernelCrash'>here</a> for more info. \n",
      "\u001b[1;31mView Jupyter <a href='command:jupyter.viewOutput'>log</a> for further details."
     ]
    }
   ],
   "source": [
    "# Import necessary libraries\n",
    "import yfinance as yf\n",
    "import pandas as pd\n",
    "\n",
    "# Define asset tickers and data period\n",
    "tickers = ['TSLA', 'BND', 'SPY']\n",
    "start_date = '2015-01-01'\n",
    "end_date = '2024-10-31'\n",
    "\n",
    "# Create a dictionary to store data for each ticker\n",
    "data_dict = {}\n",
    "\n",
    "# Loop through each ticker and fetch data\n",
    "for ticker in tickers:\n",
    "    # Download data from Yahoo Finance\n",
    "    data = yf.download(ticker, start=start_date, end=end_date)\n",
    "    \n",
    "    # Calculate daily volatility as the percentage change in 'Adj Close' (for returns and volatility analysis)\n",
    "    #data['Daily Return'] = data['Adj Close'].pct_change()\n",
    "    #data['Volatility'] = data['Daily Return'].rolling(window=21).std() * (252 ** 0.5)  # Annualized 21-day rolling volatility\n",
    "\n",
    "    # Store in dictionary\n",
    "    data_dict[ticker] = data\n",
    "def flatten_columns(df):\n",
    "    \"\"\"Flatten the multi-index columns of the DataFrame.\"\"\"\n",
    "    if isinstance(df.columns, pd.MultiIndex):\n",
    "        df.columns = [col[1] for col in df.columns]  # Use only the second level (the ticker symbol)\n",
    "    return df\n",
    "\n",
    "\n",
    "# Access each dataset using the ticker key, for example: TSLA data\n",
    "tsla_data = flatten_columns(data_dict['TSLA'])\n",
    "bnd_data = flatten_columns(data_dict['BND'])\n",
    "spy_data = flatten_columns(data_dict['SPY'])\n",
    "\n",
    " # Ensure the DataFrame has the correct column names\n",
    "tsla_data.columns = ['Open', 'High', 'Low', 'Close', 'Adj Close', 'Volume']\n",
    "bnd_data.columns = ['Open', 'High', 'Low', 'Close', 'Adj Close', 'Volume']\n",
    "spy_data.columns = ['Open', 'High', 'Low', 'Close', 'Adj Close', 'Volume']\n",
    "\n",
    "# Save each dataset to a CSV file\n",
    "tsla_data.to_csv('../data/TSLA_data.csv', index_label='Date')\n",
    "bnd_data.to_csv('../data/BND_data.csv', index_label='Date')\n",
    "spy_data.to_csv('../data/SPY_data.csv', index_label='Date')\n",
    "\n",
    "# Display a sample from each dataset to confirm data retrieval (optional)\n",
    "print(\"Tesla (TSLA) Data Sample:\\n\", tsla_data.head())\n",
    "print(\"\\nVanguard Total Bond Market ETF (BND) Data Sample:\\n\", bnd_data.head())\n",
    "print(\"\\nS&P 500 ETF (SPY) Data Sample:\\n\", spy_data.head())"
   ]
  }
 ],
 "metadata": {
  "kernelspec": {
   "display_name": ".venv",
   "language": "python",
   "name": "python3"
  },
  "language_info": {
   "codemirror_mode": {
    "name": "ipython",
    "version": 3
   },
   "file_extension": ".py",
   "mimetype": "text/x-python",
   "name": "python",
   "nbconvert_exporter": "python",
   "pygments_lexer": "ipython3",
   "version": "3.12.5"
  }
 },
 "nbformat": 4,
 "nbformat_minor": 2
}
