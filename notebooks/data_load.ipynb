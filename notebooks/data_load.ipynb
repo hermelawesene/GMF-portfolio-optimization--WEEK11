{
 "cells": [
  {
   "cell_type": "code",
   "execution_count": 2,
   "metadata": {},
   "outputs": [
    {
     "name": "stderr",
     "output_type": "stream",
     "text": [
      "[*********************100%***********************]  1 of 1 completed\n",
      "[*********************100%***********************]  1 of 1 completed\n",
      "[*********************100%***********************]  1 of 1 completed"
     ]
    },
    {
     "name": "stdout",
     "output_type": "stream",
     "text": [
      "Tesla (TSLA) Data Sample:\n",
      " Price                      Adj Close      Close       High        Low  \\\n",
      "Ticker                          TSLA       TSLA       TSLA       TSLA   \n",
      "Date                                                                    \n",
      "2015-01-02 00:00:00+00:00  14.620667  14.620667  14.883333  14.217333   \n",
      "2015-01-05 00:00:00+00:00  14.006000  14.006000  14.433333  13.810667   \n",
      "2015-01-06 00:00:00+00:00  14.085333  14.085333  14.280000  13.614000   \n",
      "2015-01-07 00:00:00+00:00  14.063333  14.063333  14.318667  13.985333   \n",
      "2015-01-08 00:00:00+00:00  14.041333  14.041333  14.253333  14.000667   \n",
      "\n",
      "Price                           Open    Volume Daily Return Volatility  \n",
      "Ticker                          TSLA      TSLA                          \n",
      "Date                                                                    \n",
      "2015-01-02 00:00:00+00:00  14.858000  71466000          NaN        NaN  \n",
      "2015-01-05 00:00:00+00:00  14.303333  80527500    -0.042041        NaN  \n",
      "2015-01-06 00:00:00+00:00  14.004000  93928500     0.005664        NaN  \n",
      "2015-01-07 00:00:00+00:00  14.223333  44526000    -0.001562        NaN  \n",
      "2015-01-08 00:00:00+00:00  14.187333  51637500    -0.001564        NaN  \n",
      "\n",
      "Vanguard Total Bond Market ETF (BND) Data Sample:\n",
      " Price                      Adj Close      Close       High        Low  \\\n",
      "Ticker                           BND        BND        BND        BND   \n",
      "Date                                                                    \n",
      "2015-01-02 00:00:00+00:00  63.358784  82.650002  82.690002  82.419998   \n",
      "2015-01-05 00:00:00+00:00  63.542740  82.889999  82.919998  82.699997   \n",
      "2015-01-06 00:00:00+00:00  63.726738  83.129997  83.379997  83.029999   \n",
      "2015-01-07 00:00:00+00:00  63.765045  83.180000  83.279999  83.050003   \n",
      "2015-01-08 00:00:00+00:00  63.665401  83.050003  83.110001  82.970001   \n",
      "\n",
      "Price                           Open   Volume Daily Return Volatility  \n",
      "Ticker                           BND      BND                          \n",
      "Date                                                                   \n",
      "2015-01-02 00:00:00+00:00  82.430000  2218800          NaN        NaN  \n",
      "2015-01-05 00:00:00+00:00  82.739998  5820100     0.002903        NaN  \n",
      "2015-01-06 00:00:00+00:00  83.029999  3887600     0.002896        NaN  \n",
      "2015-01-07 00:00:00+00:00  83.139999  2433400     0.000601        NaN  \n",
      "2015-01-08 00:00:00+00:00  83.110001  1873400    -0.001563        NaN  \n",
      "\n",
      "S&P 500 ETF (SPY) Data Sample:\n",
      " Price                       Adj Close       Close        High         Low  \\\n",
      "Ticker                            SPY         SPY         SPY         SPY   \n",
      "Date                                                                        \n",
      "2015-01-02 00:00:00+00:00  173.173813  205.429993  206.880005  204.179993   \n",
      "2015-01-05 00:00:00+00:00  170.046326  201.720001  204.369995  201.350006   \n",
      "2015-01-06 00:00:00+00:00  168.444641  199.820007  202.720001  198.860001   \n",
      "2015-01-07 00:00:00+00:00  170.543640  202.309998  202.720001  200.880005   \n",
      "2015-01-08 00:00:00+00:00  173.570007  205.899994  206.160004  203.990005   \n",
      "\n",
      "Price                            Open     Volume Daily Return Volatility  \n",
      "Ticker                            SPY        SPY                          \n",
      "Date                                                                      \n",
      "2015-01-02 00:00:00+00:00  206.380005  121465900          NaN        NaN  \n",
      "2015-01-05 00:00:00+00:00  204.169998  169632600    -0.018060        NaN  \n",
      "2015-01-06 00:00:00+00:00  202.089996  209151400    -0.009419        NaN  \n",
      "2015-01-07 00:00:00+00:00  201.419998  125346700     0.012461        NaN  \n",
      "2015-01-08 00:00:00+00:00  204.009995  147217800     0.017745        NaN  \n"
     ]
    },
    {
     "name": "stderr",
     "output_type": "stream",
     "text": [
      "\n"
     ]
    }
   ],
   "source": [
    "# Import necessary libraries\n",
    "import yfinance as yf\n",
    "import pandas as pd\n",
    "\n",
    "# Define asset tickers and data period\n",
    "tickers = ['TSLA', 'BND', 'SPY']\n",
    "start_date = '2015-01-01'\n",
    "end_date = '2024-10-31'\n",
    "\n",
    "# Create a dictionary to store data for each ticker\n",
    "data_dict = {}\n",
    "\n",
    "# Loop through each ticker and fetch data\n",
    "for ticker in tickers:\n",
    "    # Download data from Yahoo Finance\n",
    "    data = yf.download(ticker, start=start_date, end=end_date)\n",
    "    \n",
    "    # Calculate daily volatility as the percentage change in 'Adj Close' (for returns and volatility analysis)\n",
    "    data['Daily Return'] = data['Adj Close'].pct_change()\n",
    "    data['Volatility'] = data['Daily Return'].rolling(window=21).std() * (252 ** 0.5)  # Annualized 21-day rolling volatility\n",
    "\n",
    "    # Store in dictionary\n",
    "    data_dict[ticker] = data\n",
    "\n",
    "# Access each dataset using the ticker key, for example: TSLA data\n",
    "tsla_data = data_dict['TSLA']\n",
    "bnd_data = data_dict['BND']\n",
    "spy_data = data_dict['SPY']\n",
    "\n",
    "# Display a sample from each dataset to confirm data retrieval\n",
    "print(\"Tesla (TSLA) Data Sample:\\n\", tsla_data.head())\n",
    "print(\"\\nVanguard Total Bond Market ETF (BND) Data Sample:\\n\", bnd_data.head())\n",
    "print(\"\\nS&P 500 ETF (SPY) Data Sample:\\n\", spy_data.head())\n"
   ]
  },
  {
   "cell_type": "code",
   "execution_count": 4,
   "metadata": {},
   "outputs": [],
   "source": [
    "# Save each dataset to a CSV file\n",
    "tsla_data.to_csv('../data/TSLA_data.csv', index=True)\n",
    "bnd_data.to_csv('../data/BND_data.csv', index=True)\n",
    "spy_data.to_csv('../data/SPY_data.csv', index=True)"
   ]
  },
  {
   "cell_type": "code",
   "execution_count": null,
   "metadata": {},
   "outputs": [],
   "source": []
  }
 ],
 "metadata": {
  "kernelspec": {
   "display_name": ".venv",
   "language": "python",
   "name": "python3"
  },
  "language_info": {
   "codemirror_mode": {
    "name": "ipython",
    "version": 3
   },
   "file_extension": ".py",
   "mimetype": "text/x-python",
   "name": "python",
   "nbconvert_exporter": "python",
   "pygments_lexer": "ipython3",
   "version": "3.12.5"
  }
 },
 "nbformat": 4,
 "nbformat_minor": 2
}
