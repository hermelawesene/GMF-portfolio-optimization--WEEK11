{
 "cells": [
  {
   "cell_type": "code",
   "execution_count": null,
   "metadata": {},
   "outputs": [],
   "source": [
    "import sys\n",
    "import os\n",
    "sys.path.append(os.path.join(os.path.abspath('..')))"
   ]
  },
  {
   "cell_type": "code",
   "execution_count": null,
   "metadata": {},
   "outputs": [],
   "source": [
    "# portfolio_optimization.ipynb\n",
    "import os\n",
    "import sys\n",
    "import logging\n",
    "from src.portfolio_optimizer import PortfolioOptimizer\n",
    "\n",
    "# Add the src directory to the Python path\n",
    "sys.path.append(os.path.join(os.path.abspath('..'), 'src'))"
   ]
  },
  {
   "cell_type": "code",
   "execution_count": null,
   "metadata": {},
   "outputs": [],
   "source": [
    "# File paths for the forecast data\n",
    "tsla_forecast_path = '../models/best_models/forecasts_TSLA.csv'\n",
    "bnd_forecast_path = '../models/best_models/forecasts_BND.csv'\n",
    "spy_forecast_path = '../models/best_models/forecasts_SPY.csv'\n",
    "\n",
    "# Create an instance of the PortfolioOptimizer\n",
    "optimizer = PortfolioOptimizer(tsla_csv=tsla_forecast_path, \n",
    "                               bnd_csv=bnd_forecast_path, \n",
    "                               spy_csv=spy_forecast_path, \n",
    "                               logger=logger)\n",
    "\n",
    "# Generate a summary of the portfolio\n",
    "summary = optimizer.summary()\n",
    "\n",
    "# Visualize the portfolio performance\n",
    "optimizer.visualize_portfolio_performance()"
   ]
  }
 ],
 "metadata": {
  "kernelspec": {
   "display_name": ".venv",
   "language": "python",
   "name": "python3"
  },
  "language_info": {
   "name": "python",
   "version": "3.11.7"
  }
 },
 "nbformat": 4,
 "nbformat_minor": 2
}
